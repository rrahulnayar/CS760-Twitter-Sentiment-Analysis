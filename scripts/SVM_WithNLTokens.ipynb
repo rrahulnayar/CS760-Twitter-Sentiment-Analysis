{
 "cells": [
  {
   "cell_type": "code",
   "execution_count": 1,
   "metadata": {
    "collapsed": true
   },
   "outputs": [],
   "source": [
    "import numpy as np\n",
    "import pandas as pd\n",
    "import re\n",
    "\n",
    "import pp\n",
    "#from sklearn import preprocessing\n",
    "from sklearn.feature_extraction.text import CountVectorizer,TfidfVectorizer\n",
    "from sklearn.model_selection import train_test_split, GridSearchCV, StratifiedKFold\n",
    "from sklearn.pipeline import make_pipeline\n",
    "from sklearn.svm import SVC\n",
    "\n",
    "import nltk\n",
    "from nltk.corpus import stopwords\n",
    "from nltk.stem import SnowballStemmer\n",
    "from nltk.tokenize import TweetTokenizer\n",
    "\n",
    "\n",
    "dataF = \"G:/edu/sem2/760/proj/CS760-Twitter-Sentiment-Analysis/data/\"\n",
    "allF = dataF+'train_utf8.csv'\n",
    "samF = dataF+'sample.csv'\n",
    "featF = dataF+'svmVecFeatures.csv'\n"
   ]
  },
  {
   "cell_type": "code",
   "execution_count": 2,
   "metadata": {
    "collapsed": true
   },
   "outputs": [],
   "source": [
    "dt = pd.read_csv(allF)"
   ]
  },
  {
   "cell_type": "code",
   "execution_count": 3,
   "metadata": {
    "collapsed": true
   },
   "outputs": [],
   "source": [
    "#string corrections\n",
    "def modify(txt):\n",
    "    txt = txt.strip()\n",
    "    txt = txt.replace('&quot;',\"'\")\n",
    "    txt = txt.replace('&amp;','&')\n",
    "    txt = txt.replace('&lt;','<')\n",
    "    txt = txt.replace('&gt;','>')\n",
    "    txt = re.sub(r'\\s+',' ',txt)\n",
    "    return txt"
   ]
  },
  {
   "cell_type": "code",
   "execution_count": 4,
   "metadata": {
    "collapsed": true
   },
   "outputs": [],
   "source": [
    "def tokenize(text): \n",
    "    tknzr = TweetTokenizer()\n",
    "    return tknzr.tokenize(text)\n",
    "\n",
    "def stem(doc):\n",
    "    return (stemmer.stem(w) for w in analyzer(doc))\n",
    "\n",
    "en_stopwords = set(stopwords.words(\"english\")) \n",
    "\n",
    "vectorizer = TfidfVectorizer(\n",
    "    analyzer = 'word',\n",
    "    tokenizer = tokenize,\n",
    "    lowercase = True,\n",
    "    ngram_range=(1, 1),\n",
    "    stop_words = en_stopwords,\n",
    "    max_features=512)"
   ]
  },
  {
   "cell_type": "code",
   "execution_count": 5,
   "metadata": {},
   "outputs": [
    {
     "name": "stdout",
     "output_type": "stream",
     "text": [
      "<class 'scipy.sparse.csr.csr_matrix'>\n"
     ]
    }
   ],
   "source": [
    "vecs = vectorizer.fit_transform(dt['SentimentText'])\n",
    "print(type(vecs))"
   ]
  },
  {
   "cell_type": "code",
   "execution_count": 6,
   "metadata": {},
   "outputs": [
    {
     "name": "stdout",
     "output_type": "stream",
     "text": [
      "(99989, 512)\n"
     ]
    }
   ],
   "source": [
    "print(vecs.shape)"
   ]
  },
  {
   "cell_type": "code",
   "execution_count": 7,
   "metadata": {},
   "outputs": [],
   "source": [
    "feats = pd.DataFrame(vecs.toarray())\n",
    "feats = pd.DataFrame(dt['Sentiment']).join(feats)\n",
    "feats.to_csv(featF,index=False)\n",
    "#type(vecs)"
   ]
  },
  {
   "cell_type": "code",
   "execution_count": 8,
   "metadata": {},
   "outputs": [
    {
     "name": "stdout",
     "output_type": "stream",
     "text": [
      "[89990, 9999, 89990, 9999]\n"
     ]
    }
   ],
   "source": [
    "# Split into train val and test sets 80-10-10\n",
    "train,test = train_test_split(dt, test_size=0.1, shuffle=False)\n",
    "#val,test = train_test_split(test, test_size=0.5, shuffle=False)\n",
    "#Divide into X and Y\n",
    "X_train,X_test = [t['SentimentText'] for t in [train,test]]\n",
    "y_train,y_test = [t['Sentiment'] for t in [train,test]]\n",
    "print([len(t) for t in [X_train,X_test,y_train,y_test]])"
   ]
  },
  {
   "cell_type": "code",
   "execution_count": null,
   "metadata": {},
   "outputs": [],
   "source": [
    "np.random.seed(1)\n",
    "kfolds = StratifiedKFold(n_splits=5, shuffle=True, random_state=1)\n",
    "pipeline_svm = make_pipeline(vectorizer, \n",
    "                            SVC(probability=True, kernel=\"linear\", class_weight=\"balanced\"))\n",
    "\n",
    "#grid_svm = GridSearchCV(pipeline_svm,\n",
    "#                    param_grid = {'svc__C': [0.01, 0.1, 1]}, \n",
    "#                    cv = kfolds,\n",
    "#                    scoring=\"roc_auc\",\n",
    "#                    verbose=1,   \n",
    "#                    n_jobs=-1) \n",
    "\n",
    "#grid_svm.fit(X_train, y_train)\n",
    "#grid_svm.score(X_test, y_test)"
   ]
  },
  {
   "cell_type": "code",
   "execution_count": null,
   "metadata": {},
   "outputs": [],
   "source": [
    "pipeline_svm.fit(X_train, y_train)\n"
   ]
  },
  {
   "cell_type": "code",
   "execution_count": null,
   "metadata": {},
   "outputs": [],
   "source": [
    "h_test_prob = pd.DataFrame(pipeline_svm.predict_proba(X_test), X_test.index)\n",
    "h_test = h_test_prob[1]>0.5\n",
    "h_test = h_test.map(lambda x:1 if x else 0)\n",
    "h_test = h_test.rename('Predicted')\n",
    "out_test = pd.concat([h_test_prob,h_test,y_test],axis=1)\n",
    "out_test = out_test.rename(columns={'Sentiment':'Actual'})\n",
    "out_test"
   ]
  },
  {
   "cell_type": "code",
   "execution_count": null,
   "metadata": {
    "collapsed": true
   },
   "outputs": [],
   "source": [
    "def report_results(model, X, y):\n",
    "    pred_proba = model.predict_proba(X)[:, 1]\n",
    "    pred = model.predict(X)        \n",
    "\n",
    "    auc = roc_auc_score(y, pred_proba)\n",
    "    acc = accuracy_score(y, pred)\n",
    "    f1 = f1_score(y, pred)\n",
    "    prec = precision_score(y, pred)\n",
    "    rec = recall_score(y, pred)\n",
    "    result = {'auc': auc, 'f1': f1, 'acc': acc, 'precision': prec, 'recall': rec}\n",
    "    return result\n",
    "\n"
   ]
  },
  {
   "cell_type": "code",
   "execution_count": null,
   "metadata": {
    "collapsed": true
   },
   "outputs": [],
   "source": [
    "#report_results(grid_svm.best_estimator_, X_test, y_test)"
   ]
  },
  {
   "cell_type": "code",
   "execution_count": null,
   "metadata": {},
   "outputs": [],
   "source": [
    "TP = len(out_test[(out_test.Predicted==1) & (out_test.Actual==1)])\n",
    "FP = len(out_test[(out_test.Predicted==1) & (out_test.Actual!=1)])\n",
    "TN = len(out_test[(out_test.Predicted!=1) & (out_test.Actual!=1)])\n",
    "FN = len(out_test[(out_test.Predicted!=1) & (out_test.Actual==1)])\n",
    "TP,TN,FP,FN"
   ]
  },
  {
   "cell_type": "code",
   "execution_count": null,
   "metadata": {},
   "outputs": [],
   "source": [
    "Pr = TP/(TP+FP)\n",
    "Rc = TP/(TP+FN)\n",
    "F1 = 2*Pr*Rc/(Pr+Rc)\n",
    "Pr,Rc,F1"
   ]
  }
 ],
 "metadata": {
  "kernelspec": {
   "display_name": "Python 3",
   "language": "python",
   "name": "python3"
  },
  "language_info": {
   "codemirror_mode": {
    "name": "ipython",
    "version": 3
   },
   "file_extension": ".py",
   "mimetype": "text/x-python",
   "name": "python",
   "nbconvert_exporter": "python",
   "pygments_lexer": "ipython3",
   "version": "3.6.1"
  }
 },
 "nbformat": 4,
 "nbformat_minor": 2
}
