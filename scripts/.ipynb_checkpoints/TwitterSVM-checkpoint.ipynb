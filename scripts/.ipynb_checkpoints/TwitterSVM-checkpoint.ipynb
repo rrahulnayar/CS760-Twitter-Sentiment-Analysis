{
 "cells": [
  {
   "cell_type": "code",
   "execution_count": 1,
   "metadata": {},
   "outputs": [],
   "source": [
    "import numpy as np\n",
    "import pandas as pd\n",
    "from sklearn.svm import SVC\n",
    "from sklearn.metrics import precision_score\n",
    "from sklearn.metrics import recall_score\n",
    "from sklearn.model_selection import train_test_split\n",
    "\n",
    "dataF = \"G:/edu/sem2/760/proj/CS760-Twitter-Sentiment-Analysis/data/\"\n",
    "featF = dataF+'svmAllFeatures.csv'\n",
    "NUM_FEATURES = 6"
   ]
  },
  {
   "cell_type": "code",
   "execution_count": 2,
   "metadata": {},
   "outputs": [],
   "source": [
    "data = pd.read_csv(featF)#all data\n",
    "X = data.loc[:,'0':str(NUM_FEATURES)]\n",
    "Y = data['Sentiment']\n",
    "N = len(Y)#total rows\n",
    "X_train, X_test, y_train, y_test = train_test_split(X, Y, test_size=0.2, stratify = Y)\n",
    "X_val, X_test, y_val, y_test = train_test_split(X_test, y_test, test_size=0.5, stratify = y_test)\n",
    "trN,vlN,tsN = len(y_train),len(y_val),len(y_test)"
   ]
  },
  {
   "cell_type": "code",
   "execution_count": 3,
   "metadata": {},
   "outputs": [
    {
     "name": "stdout",
     "output_type": "stream",
     "text": [
      "[LibSVM]"
     ]
    },
    {
     "data": {
      "text/plain": [
       "SVC(C=1.0, cache_size=200, class_weight=None, coef0=0.0,\n",
       "  decision_function_shape='ovr', degree=3, gamma='auto', kernel='rbf',\n",
       "  max_iter=-1, probability=False, random_state=None, shrinking=True,\n",
       "  tol=0.001, verbose=True)"
      ]
     },
     "execution_count": 3,
     "metadata": {},
     "output_type": "execute_result"
    }
   ],
   "source": [
    "model = SVC(verbose=True)#using rbf kernel, tol = 1e-3(default)\n",
    "model.fit(X_train,y_train)"
   ]
  },
  {
   "cell_type": "code",
   "execution_count": 4,
   "metadata": {},
   "outputs": [],
   "source": [
    "h_val = pd.Series(model.predict(X_val))#.reindex(X_val.index)\n",
    "val = pd.concat([h_val,pd.Series(X_val.index)],axis=1)\n",
    "val = val.set_index(1)\n",
    "val = val.join(y_val)\n",
    "val = val.rename(columns={0:'Predicted', 'Sentiment':'Actual'})\n",
    "val.index.names=['index']"
   ]
  },
  {
   "cell_type": "code",
   "execution_count": 19,
   "metadata": {},
   "outputs": [
    {
     "data": {
      "text/plain": [
       "(44, 21, 22, 13)"
      ]
     },
     "execution_count": 19,
     "metadata": {},
     "output_type": "execute_result"
    }
   ],
   "source": [
    "TP = len(val[(val.Predicted=='Y') & (val.Actual=='Y')])\n",
    "FP = len(val[(val.Predicted=='Y') & (val.Actual=='N')])\n",
    "TN = len(val[(val.Predicted=='N') & (val.Actual=='N')])\n",
    "FN = len(val[(val.Predicted=='N') & (val.Actual=='Y')])\n",
    "TP,TN,FP,FN\n"
   ]
  }
 ],
 "metadata": {
  "kernelspec": {
   "display_name": "Python 3",
   "language": "python",
   "name": "python3"
  },
  "language_info": {
   "codemirror_mode": {
    "name": "ipython",
    "version": 3
   },
   "file_extension": ".py",
   "mimetype": "text/x-python",
   "name": "python",
   "nbconvert_exporter": "python",
   "pygments_lexer": "ipython3",
   "version": "3.6.1"
  }
 },
 "nbformat": 4,
 "nbformat_minor": 2
}
