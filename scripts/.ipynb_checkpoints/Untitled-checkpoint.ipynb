{
 "cells": [
  {
   "cell_type": "code",
   "execution_count": 1,
   "metadata": {
    "collapsed": true
   },
   "outputs": [],
   "source": [
    "import pandas as pd\n",
    "import numpy as np\n",
    "from sklearn.svm import SVC\n",
    "dataF = '../data/'\n",
    "vecsF = dataF+'allVecs.csv'\n",
    "outF = dataF+'SVM_Output.csv'\n",
    "probsF = dataF+'SVM_Confidence.txt'"
   ]
  },
  {
   "cell_type": "code",
   "execution_count": 2,
   "metadata": {},
   "outputs": [
    {
     "name": "stdout",
     "output_type": "stream",
     "text": [
      "99989 Index(['Label', '0', '1', '2', '3', '4', '5', '6', '7', '8',\n",
      "       ...\n",
      "       '502', '503', '504', '505', '506', '507', '508', '509', '510', '511'],\n",
      "      dtype='object', length=513) ['N' 'Y']\n"
     ]
    }
   ],
   "source": [
    "dt = pd.read_csv(vecsF)\n",
    "print(len(dt), dt.columns,dt.Label.unique())"
   ]
  },
  {
   "cell_type": "code",
   "execution_count": 4,
   "metadata": {
    "collapsed": true
   },
   "outputs": [],
   "source": [
    "NumFeatures = len(dt.columns)-1\n",
    "N = len(dt)"
   ]
  },
  {
   "cell_type": "code",
   "execution_count": 15,
   "metadata": {},
   "outputs": [
    {
     "data": {
      "text/plain": [
       "(89989, 10000, 89989, 10000)"
      ]
     },
     "execution_count": 15,
     "metadata": {},
     "output_type": "execute_result"
    }
   ],
   "source": [
    "train,test = dt[:(N-10000)],dt[(N-10000):]\n",
    "X_train,X_test = [t.loc[:,'0':str(NumFeatures-1)] for t in [train,test]]\n",
    "Y_train,Y_test = [t.Label for t in [train,test]]\n",
    "len(X_train),len(X_test),len(Y_train),len(Y_test)"
   ]
  },
  {
   "cell_type": "code",
   "execution_count": null,
   "metadata": {
    "collapsed": true
   },
   "outputs": [],
   "source": [
    "N_train = 1000\n",
    "X_train2,Y_train2 = X_train[:N_train],Y_train[:N_train]"
   ]
  },
  {
   "cell_type": "code",
   "execution_count": null,
   "metadata": {
    "collapsed": true
   },
   "outputs": [],
   "source": [
    "model = SVC(verbose=True, probability=True)"
   ]
  },
  {
   "cell_type": "code",
   "execution_count": null,
   "metadata": {
    "collapsed": true
   },
   "outputs": [],
   "source": [
    "model.fit(X_train2,Y_train2)"
   ]
  },
  {
   "cell_type": "code",
   "execution_count": null,
   "metadata": {
    "collapsed": true
   },
   "outputs": [],
   "source": [
    "h_test_prob = pd.DataFrame(model.predict_proba(X_test), X_test.index)\n",
    "h_test = h_test_prob[1]>0.5#Threshold = 50%\n",
    "h_test = h_test.map(lambda x:'Y' if x else 'N')\n",
    "h_test = h_test.rename('Predicted')\n",
    "out_test = pd.concat([h_test_prob,h_test,Y_test],axis=1)\n",
    "#out_test = out_test.rename(columns={'Sentiment':'Actual'})\n",
    "out_test.to_csv(outF,index=False)"
   ]
  }
 ],
 "metadata": {
  "kernelspec": {
   "display_name": "Python 3",
   "language": "python",
   "name": "python3"
  },
  "language_info": {
   "codemirror_mode": {
    "name": "ipython",
    "version": 3
   },
   "file_extension": ".py",
   "mimetype": "text/x-python",
   "name": "python",
   "nbconvert_exporter": "python",
   "pygments_lexer": "ipython3",
   "version": "3.6.1"
  }
 },
 "nbformat": 4,
 "nbformat_minor": 2
}
